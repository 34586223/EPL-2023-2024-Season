{
 "cells": [
  {
   "cell_type": "markdown",
   "metadata": {},
   "source": [
    "# EPL 2022-2023 DATA ANALYSIS"
   ]
  },
  {
   "cell_type": "markdown",
   "metadata": {},
   "source": [
    "### Importing the libraries"
   ]
  },
  {
   "cell_type": "code",
   "execution_count": 24,
   "metadata": {},
   "outputs": [],
   "source": [
    "import pandas as pd\n",
    "\n",
    "import numpy as np \n",
    "\n",
    "import re"
   ]
  },
  {
   "cell_type": "markdown",
   "metadata": {},
   "source": [
    "### Importing the Datasets"
   ]
  },
  {
   "cell_type": "code",
   "execution_count": 25,
   "metadata": {},
   "outputs": [
    {
     "data": {
      "text/html": [
       "<div>\n",
       "<style scoped>\n",
       "    .dataframe tbody tr th:only-of-type {\n",
       "        vertical-align: middle;\n",
       "    }\n",
       "\n",
       "    .dataframe tbody tr th {\n",
       "        vertical-align: top;\n",
       "    }\n",
       "\n",
       "    .dataframe thead th {\n",
       "        text-align: right;\n",
       "    }\n",
       "</style>\n",
       "<table border=\"1\" class=\"dataframe\">\n",
       "  <thead>\n",
       "    <tr style=\"text-align: right;\">\n",
       "      <th></th>\n",
       "      <th>rank</th>\n",
       "      <th>points</th>\n",
       "      <th>goalsDiff</th>\n",
       "      <th>team_id</th>\n",
       "      <th>team.name</th>\n",
       "      <th>matches_played</th>\n",
       "      <th>wins</th>\n",
       "      <th>draws</th>\n",
       "      <th>losses</th>\n",
       "      <th>goals_for</th>\n",
       "      <th>...</th>\n",
       "      <th>home_draw</th>\n",
       "      <th>home_lose</th>\n",
       "      <th>home_goals_for</th>\n",
       "      <th>home_goals_against</th>\n",
       "      <th>away</th>\n",
       "      <th>away_wins</th>\n",
       "      <th>away_draw</th>\n",
       "      <th>away_lose</th>\n",
       "      <th>away_goals_for</th>\n",
       "      <th>away_goals_against</th>\n",
       "    </tr>\n",
       "  </thead>\n",
       "  <tbody>\n",
       "    <tr>\n",
       "      <th>0</th>\n",
       "      <td>1</td>\n",
       "      <td>89</td>\n",
       "      <td>61</td>\n",
       "      <td>50</td>\n",
       "      <td>Manchester City</td>\n",
       "      <td>38</td>\n",
       "      <td>28</td>\n",
       "      <td>5</td>\n",
       "      <td>5</td>\n",
       "      <td>94</td>\n",
       "      <td>...</td>\n",
       "      <td>1</td>\n",
       "      <td>1</td>\n",
       "      <td>60</td>\n",
       "      <td>17</td>\n",
       "      <td>19</td>\n",
       "      <td>11</td>\n",
       "      <td>4</td>\n",
       "      <td>4</td>\n",
       "      <td>34</td>\n",
       "      <td>16</td>\n",
       "    </tr>\n",
       "    <tr>\n",
       "      <th>1</th>\n",
       "      <td>2</td>\n",
       "      <td>84</td>\n",
       "      <td>45</td>\n",
       "      <td>42</td>\n",
       "      <td>Arsenal</td>\n",
       "      <td>38</td>\n",
       "      <td>26</td>\n",
       "      <td>6</td>\n",
       "      <td>6</td>\n",
       "      <td>88</td>\n",
       "      <td>...</td>\n",
       "      <td>3</td>\n",
       "      <td>2</td>\n",
       "      <td>53</td>\n",
       "      <td>25</td>\n",
       "      <td>19</td>\n",
       "      <td>12</td>\n",
       "      <td>3</td>\n",
       "      <td>4</td>\n",
       "      <td>35</td>\n",
       "      <td>18</td>\n",
       "    </tr>\n",
       "    <tr>\n",
       "      <th>2</th>\n",
       "      <td>3</td>\n",
       "      <td>75</td>\n",
       "      <td>15</td>\n",
       "      <td>33</td>\n",
       "      <td>Manchester United</td>\n",
       "      <td>38</td>\n",
       "      <td>23</td>\n",
       "      <td>6</td>\n",
       "      <td>9</td>\n",
       "      <td>58</td>\n",
       "      <td>...</td>\n",
       "      <td>3</td>\n",
       "      <td>1</td>\n",
       "      <td>36</td>\n",
       "      <td>10</td>\n",
       "      <td>19</td>\n",
       "      <td>8</td>\n",
       "      <td>3</td>\n",
       "      <td>8</td>\n",
       "      <td>22</td>\n",
       "      <td>33</td>\n",
       "    </tr>\n",
       "    <tr>\n",
       "      <th>3</th>\n",
       "      <td>4</td>\n",
       "      <td>71</td>\n",
       "      <td>35</td>\n",
       "      <td>34</td>\n",
       "      <td>Newcastle</td>\n",
       "      <td>38</td>\n",
       "      <td>19</td>\n",
       "      <td>14</td>\n",
       "      <td>5</td>\n",
       "      <td>68</td>\n",
       "      <td>...</td>\n",
       "      <td>6</td>\n",
       "      <td>2</td>\n",
       "      <td>36</td>\n",
       "      <td>14</td>\n",
       "      <td>19</td>\n",
       "      <td>8</td>\n",
       "      <td>8</td>\n",
       "      <td>3</td>\n",
       "      <td>32</td>\n",
       "      <td>19</td>\n",
       "    </tr>\n",
       "    <tr>\n",
       "      <th>4</th>\n",
       "      <td>5</td>\n",
       "      <td>67</td>\n",
       "      <td>28</td>\n",
       "      <td>40</td>\n",
       "      <td>Liverpool</td>\n",
       "      <td>38</td>\n",
       "      <td>19</td>\n",
       "      <td>10</td>\n",
       "      <td>9</td>\n",
       "      <td>75</td>\n",
       "      <td>...</td>\n",
       "      <td>5</td>\n",
       "      <td>1</td>\n",
       "      <td>46</td>\n",
       "      <td>17</td>\n",
       "      <td>19</td>\n",
       "      <td>6</td>\n",
       "      <td>5</td>\n",
       "      <td>8</td>\n",
       "      <td>29</td>\n",
       "      <td>30</td>\n",
       "    </tr>\n",
       "  </tbody>\n",
       "</table>\n",
       "<p>5 rows × 23 columns</p>\n",
       "</div>"
      ],
      "text/plain": [
       "   rank  points  goalsDiff  team_id          team.name  matches_played  wins  \\\n",
       "0     1      89         61       50    Manchester City              38    28   \n",
       "1     2      84         45       42            Arsenal              38    26   \n",
       "2     3      75         15       33  Manchester United              38    23   \n",
       "3     4      71         35       34          Newcastle              38    19   \n",
       "4     5      67         28       40          Liverpool              38    19   \n",
       "\n",
       "   draws  losses  goals_for  ...  home_draw  home_lose  home_goals_for  \\\n",
       "0      5       5         94  ...          1          1              60   \n",
       "1      6       6         88  ...          3          2              53   \n",
       "2      6       9         58  ...          3          1              36   \n",
       "3     14       5         68  ...          6          2              36   \n",
       "4     10       9         75  ...          5          1              46   \n",
       "\n",
       "   home_goals_against  away  away_wins  away_draw  away_lose  away_goals_for  \\\n",
       "0                  17    19         11          4          4              34   \n",
       "1                  25    19         12          3          4              35   \n",
       "2                  10    19          8          3          8              22   \n",
       "3                  14    19          8          8          3              32   \n",
       "4                  17    19          6          5          8              29   \n",
       "\n",
       "   away_goals_against  \n",
       "0                  16  \n",
       "1                  18  \n",
       "2                  33  \n",
       "3                  19  \n",
       "4                  30  \n",
       "\n",
       "[5 rows x 23 columns]"
      ]
     },
     "execution_count": 25,
     "metadata": {},
     "output_type": "execute_result"
    }
   ],
   "source": [
    "df = pd.read_csv('EPL Data.csv')\n",
    "\n",
    "df.head()"
   ]
  },
  {
   "cell_type": "markdown",
   "metadata": {},
   "source": [
    "### Top Performing Teams"
   ]
  },
  {
   "cell_type": "code",
   "execution_count": 41,
   "metadata": {},
   "outputs": [
    {
     "name": "stdout",
     "output_type": "stream",
     "text": [
      "Top teams by points:\n",
      "             team.name  points\n",
      "0     Manchester City      89\n",
      "1             Arsenal      84\n",
      "2   Manchester United      75\n",
      "3           Newcastle      71\n",
      "4           Liverpool      67\n",
      "5            Brighton      62\n",
      "6         Aston Villa      61\n",
      "7           Tottenham      60\n",
      "8           Brentford      59\n",
      "9              Fulham      52\n",
      "10     Crystal Palace      45\n",
      "11            Chelsea      44\n",
      "12             Wolves      41\n",
      "13           West Ham      40\n",
      "14        Bournemouth      39\n",
      "15  Nottingham Forest      38\n",
      "16            Everton      36\n",
      "17          Leicester      34\n",
      "18              Leeds      31\n",
      "19        Southampton      25\n"
     ]
    }
   ],
   "source": [
    "# Top Teams by Points\n",
    "top_teams_points = df.sort_values(by='points', ascending = False).head(20)\n",
    "\n",
    "print(\"Top teams by points:\\n\", top_teams_points[['team.name', 'points']])"
   ]
  },
  {
   "cell_type": "code",
   "execution_count": 42,
   "metadata": {},
   "outputs": [
    {
     "name": "stdout",
     "output_type": "stream",
     "text": [
      "Top teams by goals scored:\n",
      "             team.name  goals_for\n",
      "0     Manchester City         94\n",
      "1             Arsenal         88\n",
      "4           Liverpool         75\n",
      "5            Brighton         72\n",
      "7           Tottenham         70\n",
      "3           Newcastle         68\n",
      "2   Manchester United         58\n",
      "8           Brentford         58\n",
      "9              Fulham         55\n",
      "6         Aston Villa         51\n",
      "17          Leicester         51\n",
      "18              Leeds         48\n",
      "13           West Ham         42\n",
      "10     Crystal Palace         40\n",
      "15  Nottingham Forest         38\n",
      "11            Chelsea         38\n",
      "14        Bournemouth         37\n",
      "19        Southampton         36\n",
      "16            Everton         34\n",
      "12             Wolves         31\n"
     ]
    }
   ],
   "source": [
    "# Top Teams by goals scored\n",
    "top_teams_goals = df.sort_values(by='goals_for', ascending= False).head(20)\n",
    "\n",
    "print(\"Top teams by goals scored:\\n\", top_teams_goals[['team.name', 'goals_for']] )\n"
   ]
  },
  {
   "cell_type": "code",
   "execution_count": 43,
   "metadata": {},
   "outputs": [
    {
     "name": "stdout",
     "output_type": "stream",
     "text": [
      "Top teams by goal difference:\n",
      "             team.name  goalsDiff\n",
      "0     Manchester City         61\n",
      "1             Arsenal         45\n",
      "3           Newcastle         35\n",
      "4           Liverpool         28\n",
      "5            Brighton         19\n",
      "2   Manchester United         15\n",
      "8           Brentford         12\n",
      "7           Tottenham          7\n",
      "6         Aston Villa          5\n",
      "9              Fulham          2\n",
      "11            Chelsea         -9\n",
      "10     Crystal Palace         -9\n",
      "13           West Ham        -13\n",
      "17          Leicester        -17\n",
      "16            Everton        -23\n",
      "12             Wolves        -27\n",
      "15  Nottingham Forest        -30\n",
      "18              Leeds        -30\n",
      "14        Bournemouth        -34\n",
      "19        Southampton        -37\n"
     ]
    }
   ],
   "source": [
    "# Top teams by goal Difference\n",
    "top_teams_goal_diff = df.sort_values(by='goalsDiff', ascending=False).head(20)\n",
    "\n",
    "print('Top teams by goal difference:\\n', top_teams_goal_diff[['team.name', 'goalsDiff']])"
   ]
  },
  {
   "cell_type": "markdown",
   "metadata": {},
   "source": [
    "### Home Vs Away Wins"
   ]
  },
  {
   "cell_type": "code",
   "execution_count": 49,
   "metadata": {},
   "outputs": [
    {
     "name": "stdout",
     "output_type": "stream",
     "text": [
      "            team.name  home_performance  away_performance\n",
      "0     Manchester City                17                11\n",
      "1             Arsenal                14                12\n",
      "2   Manchester United                15                 8\n",
      "3           Newcastle                11                 8\n",
      "4           Liverpool                13                 6\n",
      "5            Brighton                10                 8\n",
      "6         Aston Villa                12                 6\n",
      "7           Tottenham                12                 6\n",
      "8           Brentford                10                 5\n",
      "9              Fulham                 8                 7\n",
      "10     Crystal Palace                 7                 4\n",
      "11            Chelsea                 6                 5\n",
      "12             Wolves                 9                 2\n",
      "13           West Ham                 8                 3\n",
      "14        Bournemouth                 6                 5\n",
      "15  Nottingham Forest                 8                 1\n",
      "16            Everton                 6                 2\n",
      "17          Leicester                 5                 4\n",
      "18              Leeds                 5                 2\n",
      "19        Southampton                 2                 4\n"
     ]
    }
   ],
   "source": [
    "# Computing Home Vs Away Wins\n",
    "df['home_performance'] = df['home_wins']\n",
    "\n",
    "df['away_performance'] = df['away_wins']\n",
    "\n",
    "# Comparing Home to Away Perfomance\n",
    "\n",
    "home_vs_away_wins = df[['team.name', 'home_performance', 'away_performance']]\n",
    "\n",
    "print(home_vs_away_wins)\n",
    "\n"
   ]
  },
  {
   "cell_type": "markdown",
   "metadata": {},
   "source": [
    "### Home Vs Away Losses"
   ]
  },
  {
   "cell_type": "code",
   "execution_count": 50,
   "metadata": {},
   "outputs": [
    {
     "name": "stdout",
     "output_type": "stream",
     "text": [
      "            team.name  home_losses  away_losses\n",
      "0     Manchester City            1            4\n",
      "1             Arsenal            2            4\n",
      "2   Manchester United            1            8\n",
      "3           Newcastle            2            3\n",
      "4           Liverpool            1            8\n",
      "5            Brighton            5            7\n",
      "6         Aston Villa            5            8\n",
      "7           Tottenham            6            8\n",
      "8           Brentford            2            7\n",
      "9              Fulham            6           10\n",
      "10     Crystal Palace            5           10\n",
      "11            Chelsea            6           10\n",
      "12             Wolves            7           12\n",
      "13           West Ham            7           13\n",
      "14        Bournemouth            9           12\n",
      "15  Nottingham Forest            5           13\n",
      "16            Everton           10            8\n",
      "17          Leicester           10           12\n",
      "18              Leeds            7           14\n",
      "19        Southampton           12           13\n"
     ]
    }
   ],
   "source": [
    "# Computing Home Vs Away Losses\n",
    "df['home_losses'] = df['home_lose']\n",
    "\n",
    "df['away_losses'] = df['away_lose']\n",
    "\n",
    "# Comparing Home Vs Away Losses\n",
    "\n",
    "home_vs_away_losses = df[['team.name', 'home_losses', 'away_losses']]\n",
    "\n",
    "print(home_vs_away_losses)"
   ]
  },
  {
   "cell_type": "markdown",
   "metadata": {},
   "source": [
    "### Home Vs Away Draws\n"
   ]
  },
  {
   "cell_type": "code",
   "execution_count": 51,
   "metadata": {},
   "outputs": [
    {
     "name": "stdout",
     "output_type": "stream",
     "text": [
      "            team.name  home_draw  away_draw\n",
      "0     Manchester City          1          4\n",
      "1             Arsenal          3          3\n",
      "2   Manchester United          3          3\n",
      "3           Newcastle          6          8\n",
      "4           Liverpool          5          5\n",
      "5            Brighton          4          4\n",
      "6         Aston Villa          2          5\n",
      "7           Tottenham          1          5\n",
      "8           Brentford          7          7\n",
      "9              Fulham          5          2\n",
      "10     Crystal Palace          7          5\n",
      "11            Chelsea          7          4\n",
      "12             Wolves          3          5\n",
      "13           West Ham          4          3\n",
      "14        Bournemouth          4          2\n",
      "15  Nottingham Forest          6          5\n",
      "16            Everton          3          9\n",
      "17          Leicester          4          3\n",
      "18              Leeds          7          3\n",
      "19        Southampton          5          2\n"
     ]
    }
   ],
   "source": [
    "# Comparing home vs away draws\n",
    "\n",
    "home_vs_away_draws = df[['team.name', 'home_draw', 'away_draw']]\n",
    "\n",
    "print(home_vs_away_draws)"
   ]
  },
  {
   "cell_type": "markdown",
   "metadata": {},
   "source": [
    "### Correlation Analysis"
   ]
  },
  {
   "cell_type": "code",
   "execution_count": 52,
   "metadata": {},
   "outputs": [
    {
     "name": "stdout",
     "output_type": "stream",
     "text": [
      "correlation matrix:\n",
      "                  points  goals_for  goals_against  home_wins  away_wins\n",
      "points         1.000000   0.879433      -0.827466   0.946076   0.887888\n",
      "goals_for      0.879433   1.000000      -0.582490   0.791336   0.862827\n",
      "goals_against -0.827466  -0.582490       1.000000  -0.745610  -0.686220\n",
      "home_wins      0.946076   0.791336      -0.745610   1.000000   0.727859\n",
      "away_wins      0.887888   0.862827      -0.686220   0.727859   1.000000\n"
     ]
    }
   ],
   "source": [
    "# We try to establish the correlation betweem different Metrics\n",
    "\n",
    "# Calculate the correlation Matrix\n",
    "\n",
    "correlation_matrix = df[['points', 'goals_for', 'goals_against', 'home_wins', 'away_wins']].corr()\n",
    "\n",
    "print(\"correlation matrix:\\n\", correlation_matrix)"
   ]
  },
  {
   "cell_type": "markdown",
   "metadata": {},
   "source": [
    "### Findings from the Correlation Analysis\n",
    "\n",
    "##### Team Performance\n",
    "###### Successful teams (in terms of points) typically score more goals and concede fewer     goals. They also tend to perform well both at home and away.\n",
    "\n",
    "\n",
    "##### Offensive and Defensive Balance\n",
    "###### There is a notable correlation between goals scored and goals conceded, indicating that teams strong in one aspect are often strong in the other.\n",
    "\n",
    "##### Home vs. Away Performance\n",
    "###### Teams that do well at home generally also perform well away, highlighting the importance of overall team quality and consistency."
   ]
  },
  {
   "cell_type": "markdown",
   "metadata": {},
   "source": [
    "### Team Performance Distribution"
   ]
  },
  {
   "cell_type": "code",
   "execution_count": 54,
   "metadata": {},
   "outputs": [
    {
     "data": {
      "image/png": "[encoded data removed]",
      "text/plain": [
       "<Figure size 1800x600 with 3 Axes>"
      ]
     },
     "metadata": {},
     "output_type": "display_data"
    }
   ],
   "source": [
    "import matplotlib.pyplot as plt \n",
    "\n",
    "# Plot Distribution of wins, draws, and losses\n",
    "\n",
    "fig, ax = plt.subplots(1,3, figsize= (18, 6))\n",
    "\n",
    "df['wins'].hist(ax=ax[0], bins=10)\n",
    "ax[0].set_title('Wins Distribution')\n",
    "\n",
    "df['draws'].hist(ax=ax[1], bins=10)\n",
    "ax[1].set_title('Draws Distribution')\n",
    "\n",
    "df['losses'].hist(ax=ax[2], bins=10)\n",
    "ax[2].set_title('Losses Distribution')\n",
    "\n",
    "plt.show()\n"
   ]
  },
  {
   "cell_type": "markdown",
   "metadata": {},
   "source": [
    "#### Wins Distribution\n",
    "##### Range: The number of wins ranges from 5 to 25.\n",
    "##### Clusters: There are clusters of teams with wins around 5-10, 10-15, and 15-20.\n",
    "##### Frequency: Several teams have around 5-10, 15-20, and 25 wins, with the most common win count being in the ranges 5-10 and 15-20.\n",
    "##### Implication: This suggests that the league has a spread of team performances, with a few teams winning many matches (around 25) and others winning fewer (5-10).\n",
    "\n",
    "#### Draws Distribution\n",
    "##### Range: The number of draws ranges from 6 to 14.\n",
    "##### Clusters: Most teams have around 6-8 draws.\n",
    "##### Frequency: The most frequent draw counts are around 6-8, with fewer teams having draw counts higher than 10.\n",
    "##### Implication: The distribution of draws is more concentrated, indicating that most teams draw a similar number of matches, typically between 6 and 8.\n",
    "\n",
    "#### Losses Distribution\n",
    "##### Range: The number of losses ranges from 5 to 25.\n",
    "##### Clusters: There are clusters of teams with losses around 5-10, 10-15, 15-20, and 20-25.\n",
    "##### Frequency: The distribution is more spread out compared to wins and draws, with teams distributed fairly evenly across the range of losses.\n",
    "##### Implication: This suggests variability in team performance in terms of losses, with some teams losing very few matches and others losing many.\n",
    "\n"
   ]
  },
  {
   "cell_type": "markdown",
   "metadata": {},
   "source": [
    "### General Implications\n"
   ]
  },
  {
   "cell_type": "markdown",
   "metadata": {},
   "source": [
    "#### Team Performance Variability:\n",
    "\n",
    "##### The wins histogram shows a wider spread, indicating that there are both dominant teams with many wins and weaker teams with fewer wins.\n",
    "##### The draws histogram indicates that most teams have a moderate number of draws, suggesting some consistency in match outcomes across the league.\n",
    "##### The losses histogram indicates a wide range of performances, with some teams losing many matches and others losing few.\n",
    "\n",
    "#### League Competitiveness:\n",
    "\n",
    "##### The distribution of wins and losses suggests a competitive league with a range of team strengths.\n",
    "##### The concentrated distribution of draws indicates that while there is variability in wins and losses, the teams often end up with similar results in terms of draws.\n",
    "\n",
    "#### Strategic Insights:\n",
    "\n",
    "##### Teams aiming to improve their standings may look to reduce losses and convert draws into wins, especially since the draws are concentrated in a narrow range.\n",
    "##### Analyzing the teams with the highest and lowest number of wins and losses can provide insights into successful strategies and common pitfalls."
   ]
  },
  {
   "cell_type": "markdown",
   "metadata": {},
   "source": [
    "### Comparative Analysis"
   ]
  },
  {
   "cell_type": "code",
   "execution_count": 56,
   "metadata": {},
   "outputs": [
    {
     "name": "stdout",
     "output_type": "stream",
     "text": [
      "Comparison of top 3 Teams:\n",
      "            team.name  points  goals_for  goals_against  wins  draws  losses\n",
      "0    Manchester City      89         94             33    28      5       5\n",
      "1            Arsenal      84         88             43    26      6       6\n",
      "2  Manchester United      75         58             43    23      6       9\n",
      "3          Newcastle      71         68             33    19     14       5\n"
     ]
    }
   ],
   "source": [
    "# Comparing team performance using difference metrics\n",
    "\n",
    "top_teams = df[df['rank'] <=4]\n",
    "\n",
    "print(\"Comparison of top 3 Teams:\\n\", top_teams[['team.name', 'points', 'goals_for', 'goals_against', 'wins', 'draws', 'losses']])"
   ]
  },
  {
   "cell_type": "code",
   "execution_count": null,
   "metadata": {},
   "outputs": [],
   "source": []
  }
 ],
 "metadata": {
  "kernelspec": {
   "display_name": "Python 3",
   "language": "python",
   "name": "python3"
  },
  "language_info": {
   "codemirror_mode": {
    "name": "ipython",
    "version": 3
   },
   "file_extension": ".py",
   "mimetype": "text/x-python",
   "name": "python",
   "nbconvert_exporter": "python",
   "pygments_lexer": "ipython3",
   "version": "3.12.4"
  }
 },
 "nbformat": 4,
 "nbformat_minor": 2
}
